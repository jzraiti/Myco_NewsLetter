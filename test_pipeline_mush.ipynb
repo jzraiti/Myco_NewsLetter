{
 "cells": [
  {
   "cell_type": "markdown",
   "metadata": {},
   "source": [
    "# Just for testing the lambda_function locally"
   ]
  },
  {
   "cell_type": "code",
   "execution_count": null,
   "metadata": {},
   "outputs": [],
   "source": [
    "from openai import OpenAI\n",
    "import os\n",
    "import requests\n",
    "from io import BytesIO\n",
    "from PIL import Image\n"
   ]
  },
  {
   "cell_type": "code",
   "execution_count": null,
   "metadata": {},
   "outputs": [],
   "source": [
    "print('Loading function')\n",
    "\n",
    "#openai client\n",
    "with open (\"./secrets/apiKey.txt\", \"r\") as f:\n",
    "    key = f.read()\n",
    "openai_client = OpenAI(api_key=key)\n"
   ]
  },
  {
   "cell_type": "code",
   "execution_count": null,
   "metadata": {},
   "outputs": [],
   "source": []
  },
  {
   "cell_type": "code",
   "execution_count": null,
   "metadata": {},
   "outputs": [],
   "source": [
    "\n",
    "#Generate image prompt\n",
    "response = openai_client.chat.completions.create(\n",
    "model=\"gpt-4\",\n",
    "messages=[\n",
    "    {\n",
    "    \"role\": \"system\",\n",
    "    \"content\": \"You are a Dall E prompt generator. You will be trying to create prompts to create art that features different species of bats. The images you generate should be inspired by diverse art styles and works of art from around the world and throughout history. \"\n",
    "    },\n",
    "    {\n",
    "    \"role\": \"user\",\n",
    "    \"content\": \"I am an artist trying to promote the conservation of bat populations via interesting and novel art forms. Please generate Dall-E prompts that utilize art styles from different periods of history and from around the world and have as their subjects bats rather than humans.\"\n",
    "    },\n",
    "    {\n",
    "    \"role\": \"assistant\",\n",
    "    \"content\": \" A Victorian-style portrait of a Vampire Bat with intricate lace detailing. \\n An Egyptian Hieroglyphic mural depicting the life cycle of an Egyptian Fruit Bat.\\n Impressionist painting in Monet's style showcasing Mexican Free-tailed Bats flying at dusk over water lilies pond.\\n Japanese Ukiyo-e woodblock print featuring Japanese Pipistrelle bats against Mount Fuji backdrop. \\nThe Starry Night inspired post-impressionistic artwork showing Big Brown Bats swirling around cypress trees under starlit sky \\nGuernica-style cubism art by Picasso, portraying Townsend’s big-eared bat amidst chaos and peace symbols \\nAmerican Gothic parody where instead of farmers there are two Pallid bats holding farming tools standing before their cave home \\nArt Nouveau poster design promoting conservation efforts for Indiana Myotis (Myotis sodalis) using vibrant colors and organic forms\\n Pop Art representation à la Andy Warhol: Four panels each displaying different species - Little Red Flying Fox, Greater Bulldog bat, Lesser Short-nosed fruit bat & Kitti's hog-nosed bat \\nSurrealist Salvador Dali-inspired melting clocks scene but replacing clocks with Spotted-winged fruit bats hanging from tree branches \"\n",
    "    },\n",
    "    {\n",
    "    \"role\": \"user\",\n",
    "    \"content\": \"Please provide one more.\"\n",
    "    }\n",
    "],\n",
    "temperature=1.15,\n",
    "max_tokens=70,\n",
    "top_p=1,\n",
    "frequency_penalty=2,\n",
    "presence_penalty=2\n",
    ")\n",
    "image_prompt = response.choices[0].message.content\n",
    "print('Image Prompt:', image_prompt)\n",
    "\n",
    "#Generate image based on image prompt\n",
    "response = openai_client.images.generate(\n",
    "    model=\"dall-e-3\",\n",
    "    prompt=image_prompt,\n",
    "    size=\"1024x1024\",\n",
    "    quality=\"standard\",\n",
    "    n=1,\n",
    ")\n",
    "\n",
    "image_url = response.data[0].url\n",
    "\n",
    "# Download and display the generated image\n",
    "image_response = requests.get(image_url)\n",
    "image_response.raise_for_status()\n",
    "image = Image.open(BytesIO(image_response.content))\n",
    "\n",
    "#Generate a caption\n",
    "response = openai_client.chat.completions.create(\n",
    "model=\"gpt-4\",\n",
    "messages=[\n",
    "    {\n",
    "    \"role\": \"system\",\n",
    "    \"content\": \"You are an Instagram caption generator. Your goal is to promote bat conservation through poetry and humor. \"\n",
    "    },\n",
    "    {\n",
    "    \"role\": \"user\",\n",
    "    \"content\": \"Write an original short poem about bats. Use evocative language. The poem should promote environmentalism OR be humorous OR be from the perspective of a bat. Make it no longer than 15 words.\"\n",
    "    },\n",
    "    {\n",
    "    \"role\": \"user\",\n",
    "    \"content\": (\"for context, the following is a description of an image which will accompany your poem: \" + image_prompt )\n",
    "    }\n",
    "],\n",
    "temperature=1,\n",
    "max_tokens=100,\n",
    "top_p=1,\n",
    "frequency_penalty=2,\n",
    "presence_penalty=2\n",
    ")\n",
    "\n",
    "poem = response.choices[0].message.content\n",
    "print('Caption:', poem)\n",
    "\n",
    "#Declare Hashtags\n",
    "hashtags_list = [ \"#savethebats\", \"#batsarecool\", \"#batsofinstagram\", \"#Bats\", \"#BatLove\", \"#fruitbat\", \"#aiart\", \"#ai\", \"#chatgpt\", \"#dalle\", \"#bat\" ]\n",
    "hashtags_string = \" \".join(str(x) for x in hashtags_list)\n",
    "\n",
    "#Make compound caption:\n",
    "caption = \"\"\"{one}\n",
    "\n",
    "Support the research and conservation of bats:\n",
    "https://www.batcon.org/\n",
    "\n",
    "{three}\n",
    "\"\"\".format(one=poem, three= hashtags_string)\n"
   ]
  },
  {
   "cell_type": "code",
   "execution_count": null,
   "metadata": {},
   "outputs": [],
   "source": []
  },
  {
   "cell_type": "code",
   "execution_count": null,
   "metadata": {},
   "outputs": [],
   "source": []
  }
 ],
 "metadata": {
  "kernelspec": {
   "display_name": "BatBot",
   "language": "python",
   "name": "python3"
  },
  "language_info": {
   "codemirror_mode": {
    "name": "ipython",
    "version": 3
   },
   "file_extension": ".py",
   "mimetype": "text/x-python",
   "name": "python",
   "nbconvert_exporter": "python",
   "pygments_lexer": "ipython3",
   "version": "3.11.3"
  },
  "orig_nbformat": 4
 },
 "nbformat": 4,
 "nbformat_minor": 2
}
