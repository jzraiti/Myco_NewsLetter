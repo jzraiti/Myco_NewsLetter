{
 "cells": [
  {
   "cell_type": "markdown",
   "metadata": {},
   "source": [
    "# Just for testing the lambda_function locally"
   ]
  },
  {
   "cell_type": "code",
   "execution_count": 1,
   "metadata": {},
   "outputs": [],
   "source": [
    "from openai import OpenAI\n",
    "import os\n",
    "import requests\n",
    "from io import BytesIO\n",
    "from PIL import Image\n"
   ]
  },
  {
   "cell_type": "code",
   "execution_count": 8,
   "metadata": {},
   "outputs": [
    {
     "data": {
      "text/plain": [
       "'\\n1. Mycology for Beginners\\nA newsletter dedicated to newcomers in the field of mycology, providing basic information, easy-to-understand explanations of scientific concepts, and introductions to mushroom foraging, identification, and cultivation. This could also include a \"Mushroom of the Month\" feature with detailed information about a specific species.\\n2. Mycological Art and Culture\\nFocusing on the intersection of mycology and the arts, this newsletter could feature fungal motifs in literature, visual arts, and popular culture. It could also include profiles of artists who use fungi as a medium or inspiration for their work, as well as DIY projects and mushroom dyeing techniques.\\n3. Mycology in Medicine and Pharmaceuticals\\nWhile some publications touch on this subject, a newsletter specifically dedicated to the latest research and developments in medicinal mycology could fill an important niche. It could cover new findings on the therapeutic uses of mushrooms, updates on drug development from fungal compounds, and interviews with researchers in the field.\\n4. Fungal Conservation and Ecology\\nA newsletter that focuses on the conservation of fungi and their habitats, highlighting the roles fungi play in ecosystems, threats to fungal biodiversity, and efforts around the world to protect and preserve them. This could also include citizen science projects and ways readers can contribute to fungal conservation.\\n5. Mycological Cuisine\\nWhile many mycologists are interested in the culinary aspects of mushrooms, a newsletter devoted entirely to mycological cuisine could explore traditional and innovative uses of mushrooms in cooking. It could feature recipes, profiles of chefs specializing in fungal dishes, and the nutritional benefits of various mushrooms.\\n6. Global Mycology\\nA newsletter that brings together mycological knowledge and practices from around the world, showcasing how different cultures interact with fungi. This could include traditional uses of mushrooms in non-Western cultures, international mycological research, and global conservation efforts.\\n7. Mycology and Climate Change\\nWith the growing concern over climate change, a newsletter focusing on how fungal communities are affected by and can affect climate change could be timely. Topics could include fungal roles in carbon sequestration, impacts of changing climates on fungal biodiversity, and research on fungi as a solution to environmental challenges.\\n'"
      ]
     },
     "execution_count": 8,
     "metadata": {},
     "output_type": "execute_result"
    }
   ],
   "source": [
    "'''\n",
    "1. Mycology for Beginners\n",
    "A newsletter dedicated to newcomers in the field of mycology, providing basic information, easy-to-understand explanations of scientific concepts, and introductions to mushroom foraging, identification, and cultivation. This could also include a \"Mushroom of the Month\" feature with detailed information about a specific species.\n",
    "2. Mycological Art and Culture\n",
    "Focusing on the intersection of mycology and the arts, this newsletter could feature fungal motifs in literature, visual arts, and popular culture. It could also include profiles of artists who use fungi as a medium or inspiration for their work, as well as DIY projects and mushroom dyeing techniques.\n",
    "3. Mycology in Medicine and Pharmaceuticals\n",
    "While some publications touch on this subject, a newsletter specifically dedicated to the latest research and developments in medicinal mycology could fill an important niche. It could cover new findings on the therapeutic uses of mushrooms, updates on drug development from fungal compounds, and interviews with researchers in the field.\n",
    "4. Fungal Conservation and Ecology\n",
    "A newsletter that focuses on the conservation of fungi and their habitats, highlighting the roles fungi play in ecosystems, threats to fungal biodiversity, and efforts around the world to protect and preserve them. This could also include citizen science projects and ways readers can contribute to fungal conservation.\n",
    "5. Mycological Cuisine\n",
    "While many mycologists are interested in the culinary aspects of mushrooms, a newsletter devoted entirely to mycological cuisine could explore traditional and innovative uses of mushrooms in cooking. It could feature recipes, profiles of chefs specializing in fungal dishes, and the nutritional benefits of various mushrooms.\n",
    "6. Global Mycology\n",
    "A newsletter that brings together mycological knowledge and practices from around the world, showcasing how different cultures interact with fungi. This could include traditional uses of mushrooms in non-Western cultures, international mycological research, and global conservation efforts.\n",
    "7. Mycology and Climate Change\n",
    "With the growing concern over climate change, a newsletter focusing on how fungal communities are affected by and can affect climate change could be timely. Topics could include fungal roles in carbon sequestration, impacts of changing climates on fungal biodiversity, and research on fungi as a solution to environmental challenges.\n",
    "'''\n",
    "\n",
    "'''\n",
    "mushroom of the month\n",
    "\n",
    "mushroom in art and culture\n",
    "\n",
    "mycological research paper of the month\n",
    "\n",
    "mushroom recipe\n",
    "'''"
   ]
  },
  {
   "cell_type": "code",
   "execution_count": 9,
   "metadata": {},
   "outputs": [],
   "source": [
    "# get chatgpt to pick a mushroom for me to do a profile on - one from each phylum"
   ]
  },
  {
   "cell_type": "code",
   "execution_count": 10,
   "metadata": {},
   "outputs": [
    {
     "name": "stdout",
     "output_type": "stream",
     "text": [
      "Loading function\n"
     ]
    }
   ],
   "source": [
    "print('Loading function')\n",
    "\n",
    "#openai client\n",
    "with open (\"./secrets/apiKey.txt\", \"r\") as f:\n",
    "    key = f.read()\n",
    "openai_client = OpenAI(api_key=key)"
   ]
  },
  {
   "cell_type": "code",
   "execution_count": 73,
   "metadata": {},
   "outputs": [],
   "source": [
    "with open(\"MushroomNames.txt\", \"r\") as file:\n",
    "    mushroom_names = file.read()\n"
   ]
  },
  {
   "cell_type": "code",
   "execution_count": 74,
   "metadata": {},
   "outputs": [
    {
     "data": {
      "text/plain": [
       "'Agaricus bisporus, Amanita muscaria, Pleurotus ostreatus, Lentinula edodes'"
      ]
     },
     "execution_count": 74,
     "metadata": {},
     "output_type": "execute_result"
    }
   ],
   "source": [
    "mushroom_names"
   ]
  },
  {
   "cell_type": "code",
   "execution_count": 75,
   "metadata": {},
   "outputs": [
    {
     "name": "stdout",
     "output_type": "stream",
     "text": [
      "Mushroom Name: Psilocybe cubensis\n"
     ]
    }
   ],
   "source": [
    "\n",
    "#Generate image prompt\n",
    "response = openai_client.chat.completions.create(\n",
    "model=\"gpt-4\",\n",
    "messages=[\n",
    "    {\n",
    "    \"role\": \"system\",\n",
    "    \"content\": \"Mycology Knowledge Specialist: Possessing in-depth knowledge about mushrooms to ensure the prompt is accurately targeted towards generating mushroom names.\"\n",
    "    },\n",
    "    {\n",
    "    \"role\": \"user\",\n",
    "    \"content\": (\"Generate a single, scientific name of a mushroom. Do not include any other information or context. Do not include any of the following: \" + mushroom_names )\n",
    "    }\n",
    "],\n",
    "temperature=1,\n",
    "max_tokens=50,\n",
    "top_p=1,\n",
    "frequency_penalty=2,\n",
    "presence_penalty=2\n",
    ")\n",
    "mushroom_name = response.choices[0].message.content\n",
    "print('Mushroom Name:', mushroom_name)\n"
   ]
  },
  {
   "cell_type": "code",
   "execution_count": 76,
   "metadata": {},
   "outputs": [],
   "source": [
    "mushroom_names = mushroom_names + ', ' + mushroom_name"
   ]
  },
  {
   "cell_type": "code",
   "execution_count": 77,
   "metadata": {},
   "outputs": [
    {
     "data": {
      "text/plain": [
       "'Agaricus bisporus, Amanita muscaria, Pleurotus ostreatus, Lentinula edodes, Psilocybe cubensis'"
      ]
     },
     "execution_count": 77,
     "metadata": {},
     "output_type": "execute_result"
    }
   ],
   "source": [
    "mushroom_names"
   ]
  },
  {
   "cell_type": "code",
   "execution_count": 78,
   "metadata": {},
   "outputs": [],
   "source": [
    "with open(\"MushroomNames.txt\", \"w\") as file:\n",
    "    file.write(mushroom_names)\n"
   ]
  },
  {
   "cell_type": "code",
   "execution_count": 79,
   "metadata": {},
   "outputs": [
    {
     "name": "stdout",
     "output_type": "stream",
     "text": [
      "Image_prompt: Psilocybe cubensis is a medium to large-sized species of psychedelic mushroom. It features a broad, umbrella-shaped cap that's generally pale golden brown but can become caramel or chestnut in color when wet. The surface may appear smooth or slightly\n"
     ]
    }
   ],
   "source": [
    "response = openai_client.chat.completions.create(\n",
    "model=\"gpt-4\",\n",
    "messages=[\n",
    "    {\n",
    "    \"role\": \"system\",\n",
    "    \"content\": \"DallE prompt generator and Mycology Knowledge Specialist: Possessing in-depth knowledge about mushrooms to ensure the prompt is accurate for generating a realistic image.\"\n",
    "    },\n",
    "    {\n",
    "    \"role\": \"user\",\n",
    "    \"content\": (\"generate in less than 100 words a physical description of: \" + mushroom_name )\n",
    "    }\n",
    "],\n",
    "temperature=1,\n",
    "max_tokens=50,\n",
    "top_p=1,\n",
    "frequency_penalty=2,\n",
    "presence_penalty=2\n",
    ")\n",
    "image_prompt = response.choices[0].message.content\n",
    "print('Image_prompt:', image_prompt)"
   ]
  },
  {
   "cell_type": "code",
   "execution_count": 82,
   "metadata": {},
   "outputs": [],
   "source": [
    "\n",
    "#Generate image based on image prompt\n",
    "response = openai_client.images.generate(\n",
    "    model=\"dall-e-3\",\n",
    "    prompt=mushroom_name,\n",
    "    size=\"1024x1024\",\n",
    "    quality=\"standard\",\n",
    "    n=1,\n",
    ")\n",
    "\n",
    "image_url = response.data[0].url\n",
    "\n",
    "# Download and display the generated image\n",
    "image_response = requests.get(image_url)\n",
    "image_response.raise_for_status()\n",
    "image = Image.open(BytesIO(image_response.content))"
   ]
  },
  {
   "cell_type": "code",
   "execution_count": 83,
   "metadata": {},
   "outputs": [],
   "source": [
    "image.show()\n"
   ]
  },
  {
   "cell_type": "code",
   "execution_count": 84,
   "metadata": {},
   "outputs": [
    {
     "name": "stdout",
     "output_type": "stream",
     "text": [
      "culture_prompt: The Super Mario series uses mushrooms as power-up items for character enhancement.\n"
     ]
    }
   ],
   "source": [
    "response = openai_client.chat.completions.create(\n",
    "model=\"gpt-4\",\n",
    "messages=[\n",
    "    {\n",
    "    \"role\": \"system\",\n",
    "    \"content\": \"Mycology Art and Culture Specialist: Possessing in-depth knowledge about the uses and references to fungal motifs in literature, visual arts, and popular culture.\"\n",
    "    },\n",
    "    {\n",
    "    \"role\": \"user\",\n",
    "    \"content\": \"Give me an example of a fungal motif in a specific instance of art or culture. Use less than 15 words.\"\n",
    "    }\n",
    "],\n",
    "temperature=1,\n",
    "max_tokens=50,\n",
    "top_p=1,\n",
    "frequency_penalty=2,\n",
    "presence_penalty=2\n",
    ")\n",
    "culture_prompt = response.choices[0].message.content\n",
    "print('culture_prompt:', culture_prompt)"
   ]
  },
  {
   "cell_type": "code",
   "execution_count": 87,
   "metadata": {},
   "outputs": [
    {
     "name": "stdout",
     "output_type": "stream",
     "text": [
      "culture_article_prompt: Title: \"Mushroom Power-Ups Unleashed in Super Mario Series\"\n",
      "\n",
      "\n",
      "In a fantastical nod to mycology, the iconic Super Mario series integrates mushrooms as power-up items for character enhancement. These innovative features capture players' imaginative minds and accentuate gameplay dynamics.\n",
      "\n",
      "The aptly named 'Super Mushroom', initiates an intriguing transformation - introducing gamers to ‘Big’ or powered up version of our beloved plumber, enhancing his resilience against enemies. Meanwhile the vibrant red mushroom with bright white spots—inspired by Amanita muscaria from reality's natural world—is used inventively within this virtual realm. \n",
      "\n",
      "Similarly exciting is “1-Up”, a green variant that grants additional lives- rendering it one highly sought-after item indeed! Patterned after true fungal species called Mycena chlorophos notable for its glowing properties; Nintendo creatively employed bioluminescence concept here too.\n",
      "\n",
      "More than just gaming elements these endearing fungi add life-saving tools and game-changing opportunities onto which millions worldwide eagerly cling on their quests into Princess Peach’s rescue mission!\n",
      "\n",
      "Through encouraging interaction between characters & mystical shrooms, Super Mario adds depth whilst visually educating us about diversity existing amongst Earth's very own beautiful yet often overlooked kingdom-Fungi.\n",
      "From Green 1-ups to scarlet caps striding across your screen—the wonderful use of Mushrooms guides each player‘s journey through surreal landscapes!\n",
      "Be sure not miss out encountering them during your next venture inside mushroom-themed worlds aiming level victory!\n"
     ]
    }
   ],
   "source": [
    "#Generate image prompt\n",
    "response = openai_client.chat.completions.create(\n",
    "model=\"gpt-4\",\n",
    "messages=[\n",
    "    {\n",
    "    \"role\": \"system\",\n",
    "    \"content\": \"DallE prompt generator and Mycology Knowledge Specialist: Possessing in-depth knowledge about mushrooms to ensure the prompt is accurate for generating a realistic image.\"\n",
    "    },\n",
    "    {\n",
    "    \"role\": \"user\",\n",
    "    \"content\": (\"Using less than 200 words, write a newsletter article on the following:\" + culture_prompt )\n",
    "    }\n",
    "],\n",
    "temperature=1,\n",
    "max_tokens=300,\n",
    "top_p=1,\n",
    "frequency_penalty=2,\n",
    "presence_penalty=2\n",
    ")\n",
    "culture_article_prompt = response.choices[0].message.content\n",
    "print('culture_article_prompt:', culture_article_prompt)"
   ]
  },
  {
   "cell_type": "code",
   "execution_count": null,
   "metadata": {},
   "outputs": [],
   "source": [
    "'''\n",
    "TODO\n",
    "mycological research paper of the month\n",
    "\n",
    "mushroom recipe\n",
    "'''"
   ]
  },
  {
   "cell_type": "code",
   "execution_count": null,
   "metadata": {},
   "outputs": [],
   "source": []
  },
  {
   "cell_type": "code",
   "execution_count": null,
   "metadata": {},
   "outputs": [],
   "source": []
  },
  {
   "cell_type": "code",
   "execution_count": null,
   "metadata": {},
   "outputs": [],
   "source": [
    "\n",
    "#Generate image prompt\n",
    "response = openai_client.chat.completions.create(\n",
    "model=\"gpt-4\",\n",
    "messages=[\n",
    "    {\n",
    "    \"role\": \"system\",\n",
    "    \"content\": \"You are a Dall E prompt generator. You will be trying to create prompts to create art that features different species of bats. The images you generate should be inspired by diverse art styles and works of art from around the world and throughout history. \"\n",
    "    },\n",
    "    {\n",
    "    \"role\": \"user\",\n",
    "    \"content\": \"I am an artist trying to promote the conservation of bat populations via interesting and novel art forms. Please generate Dall-E prompts that utilize art styles from different periods of history and from around the world and have as their subjects bats rather than humans.\"\n",
    "    },\n",
    "    {\n",
    "    \"role\": \"assistant\",\n",
    "    \"content\": \" A Victorian-style portrait of a Vampire Bat with intricate lace detailing. \\n An Egyptian Hieroglyphic mural depicting the life cycle of an Egyptian Fruit Bat.\\n Impressionist painting in Monet's style showcasing Mexican Free-tailed Bats flying at dusk over water lilies pond.\\n Japanese Ukiyo-e woodblock print featuring Japanese Pipistrelle bats against Mount Fuji backdrop. \\nThe Starry Night inspired post-impressionistic artwork showing Big Brown Bats swirling around cypress trees under starlit sky \\nGuernica-style cubism art by Picasso, portraying Townsend’s big-eared bat amidst chaos and peace symbols \\nAmerican Gothic parody where instead of farmers there are two Pallid bats holding farming tools standing before their cave home \\nArt Nouveau poster design promoting conservation efforts for Indiana Myotis (Myotis sodalis) using vibrant colors and organic forms\\n Pop Art representation à la Andy Warhol: Four panels each displaying different species - Little Red Flying Fox, Greater Bulldog bat, Lesser Short-nosed fruit bat & Kitti's hog-nosed bat \\nSurrealist Salvador Dali-inspired melting clocks scene but replacing clocks with Spotted-winged fruit bats hanging from tree branches \"\n",
    "    },\n",
    "    {\n",
    "    \"role\": \"user\",\n",
    "    \"content\": \"Please provide one more.\"\n",
    "    }\n",
    "],\n",
    "temperature=1.15,\n",
    "max_tokens=70,\n",
    "top_p=1,\n",
    "frequency_penalty=2,\n",
    "presence_penalty=2\n",
    ")\n",
    "image_prompt = response.choices[0].message.content\n",
    "print('Image Prompt:', image_prompt)\n",
    "\n",
    "#Generate image based on image prompt\n",
    "response = openai_client.images.generate(\n",
    "    model=\"dall-e-3\",\n",
    "    prompt=image_prompt,\n",
    "    size=\"1024x1024\",\n",
    "    quality=\"standard\",\n",
    "    n=1,\n",
    ")\n",
    "\n",
    "image_url = response.data[0].url\n",
    "\n",
    "# Download and display the generated image\n",
    "image_response = requests.get(image_url)\n",
    "image_response.raise_for_status()\n",
    "image = Image.open(BytesIO(image_response.content))\n",
    "\n",
    "#Generate a caption\n",
    "response = openai_client.chat.completions.create(\n",
    "model=\"gpt-4\",\n",
    "messages=[\n",
    "    {\n",
    "    \"role\": \"system\",\n",
    "    \"content\": \"You are an Instagram caption generator. Your goal is to promote bat conservation through poetry and humor. \"\n",
    "    },\n",
    "    {\n",
    "    \"role\": \"user\",\n",
    "    \"content\": \"Write an original short poem about bats. Use evocative language. The poem should promote environmentalism OR be humorous OR be from the perspective of a bat. Make it no longer than 15 words.\"\n",
    "    },\n",
    "    {\n",
    "    \"role\": \"user\",\n",
    "    \"content\": (\"for context, the following is a description of an image which will accompany your poem: \" + image_prompt )\n",
    "    }\n",
    "],\n",
    "temperature=1,\n",
    "max_tokens=100,\n",
    "top_p=1,\n",
    "frequency_penalty=2,\n",
    "presence_penalty=2\n",
    ")\n",
    "\n",
    "poem = response.choices[0].message.content\n",
    "print('Caption:', poem)\n",
    "\n",
    "#Declare Hashtags\n",
    "hashtags_list = [ \"#savethebats\", \"#batsarecool\", \"#batsofinstagram\", \"#Bats\", \"#BatLove\", \"#fruitbat\", \"#aiart\", \"#ai\", \"#chatgpt\", \"#dalle\", \"#bat\" ]\n",
    "hashtags_string = \" \".join(str(x) for x in hashtags_list)\n",
    "\n",
    "#Make compound caption:\n",
    "caption = \"\"\"{one}\n",
    "\n",
    "Support the research and conservation of bats:\n",
    "https://www.batcon.org/\n",
    "\n",
    "{three}\n",
    "\"\"\".format(one=poem, three= hashtags_string)\n"
   ]
  }
 ],
 "metadata": {
  "kernelspec": {
   "display_name": "BatBot",
   "language": "python",
   "name": "python3"
  },
  "language_info": {
   "codemirror_mode": {
    "name": "ipython",
    "version": 3
   },
   "file_extension": ".py",
   "mimetype": "text/x-python",
   "name": "python",
   "nbconvert_exporter": "python",
   "pygments_lexer": "ipython3",
   "version": "3.12.2"
  },
  "orig_nbformat": 4
 },
 "nbformat": 4,
 "nbformat_minor": 2
}
